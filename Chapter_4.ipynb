{
  "nbformat": 4,
  "nbformat_minor": 0,
  "metadata": {
    "colab": {
      "name": "Chapter 4 ",
      "provenance": [],
      "collapsed_sections": [],
      "authorship_tag": "ABX9TyPHHwbvEV0QciEpQccYTXlT",
      "include_colab_link": true
    },
    "kernelspec": {
      "name": "python3",
      "display_name": "Python 3"
    },
    "language_info": {
      "name": "python"
    }
  },
  "cells": [
    {
      "cell_type": "markdown",
      "metadata": {
        "id": "view-in-github",
        "colab_type": "text"
      },
      "source": [
        "<a href=\"https://colab.research.google.com/github/NotAbdelrahmanelsayed/Hands-on-machine-learning/blob/main/Chapter_4.ipynb\" target=\"_parent\"><img src=\"https://colab.research.google.com/assets/colab-badge.svg\" alt=\"Open In Colab\"/></a>"
      ]
    },
    {
      "cell_type": "code",
      "execution_count": null,
      "metadata": {
        "id": "D_d8DYV8bhBV"
      },
      "outputs": [],
      "source": [
        "import sys\n",
        "assert sys.version_info >= (3, 5)\n",
        "\n",
        "# Scikit-Learn ≥0.20 is required\n",
        "import sklearn\n",
        "assert sklearn.__version__ >= \"0.20\"\n",
        "\n",
        "# Common imports\n",
        "import numpy as np\n",
        "import os\n",
        "\n",
        "# to make this notebook's output stable across runs\n",
        "np.random.seed(42)\n",
        "\n",
        "# To plot pretty figures\n",
        "%matplotlib inline\n",
        "import matplotlib as mpl\n",
        "import matplotlib.pyplot as plt\n",
        "mpl.rc('axes', labelsize=14)\n",
        "mpl.rc('xtick', labelsize=12)\n",
        "mpl.rc('ytick', labelsize=12)\n"
      ]
    },
    {
      "cell_type": "markdown",
      "source": [
        "# Simple linear Regression"
      ],
      "metadata": {
        "id": "sBIsWPi5AF0U"
      }
    },
    {
      "cell_type": "code",
      "source": [
        "X = np.random.randn(100, 1)\n",
        "y = 4+3 * X + np.random.randn(100, 1)"
      ],
      "metadata": {
        "id": "BsIsP1eWbldv"
      },
      "execution_count": null,
      "outputs": []
    },
    {
      "cell_type": "code",
      "source": [
        "plt.plot(X, y, \"b.\") # b. to plot the data in these circle dots\n",
        "plt.xlabel('$X_1$')\n",
        "plt.ylabel('$y$', rotation = 0)\n",
        "plt.axis([0, 2, 0, 15])\n",
        "plt.show();"
      ],
      "metadata": {
        "colab": {
          "base_uri": "https://localhost:8080/",
          "height": 289
        },
        "id": "7yGiLY-BBT3B",
        "outputId": "d02282a1-addb-4795-c74f-3743dc036fb7"
      },
      "execution_count": null,
      "outputs": [
        {
          "output_type": "display_data",
          "data": {
            "text/plain": [
              "<Figure size 432x288 with 1 Axes>"
            ],
            "image/png": "[encoded data removed]"
          },
          "metadata": {
            "needs_background": "light"
          }
        }
      ]
    },
    {
      "cell_type": "code",
      "source": [
        "X_b = np.c_[np.ones((100,1)), X] # add x0 =1 to each instance\n",
        "theta_best = np.linalg.inv(X_b.T.dot(X_b)).dot(X_b.T).dot(y)"
      ],
      "metadata": {
        "id": "0JscE3aBpJTP"
      },
      "execution_count": null,
      "outputs": []
    },
    {
      "cell_type": "code",
      "source": [
        "theta_best"
      ],
      "metadata": {
        "colab": {
          "base_uri": "https://localhost:8080/"
        },
        "id": "8zHlKszan7LH",
        "outputId": "5642ba61-0425-4306-bfcc-fcf299de6416"
      },
      "execution_count": null,
      "outputs": [
        {
          "output_type": "execute_result",
          "data": {
            "text/plain": [
              "array([[4.00742783],\n",
              "       [2.85674284]])"
            ]
          },
          "metadata": {},
          "execution_count": 5
        }
      ]
    },
    {
      "cell_type": "code",
      "source": [
        "# make our prediction using theta_best\n",
        "X_new = np.array([[0], [2]])\n",
        "X_new_b = np.c_[np.ones((2, 1)), X_new] # add x0 = 1 for each istance\n",
        "y_predict = X_new_b.dot(theta_best)"
      ],
      "metadata": {
        "id": "YiBIHWdDZhgn"
      },
      "execution_count": null,
      "outputs": []
    },
    {
      "cell_type": "code",
      "source": [
        "y_predict"
      ],
      "metadata": {
        "colab": {
          "base_uri": "https://localhost:8080/"
        },
        "id": "9z-3cAtCfEVJ",
        "outputId": "2b8aa217-74e1-437d-9e36-0ead7466d0b1"
      },
      "execution_count": null,
      "outputs": [
        {
          "output_type": "execute_result",
          "data": {
            "text/plain": [
              "array([[4.00742783],\n",
              "       [9.72091351]])"
            ]
          },
          "metadata": {},
          "execution_count": 7
        }
      ]
    },
    {
      "cell_type": "markdown",
      "source": [
        "plot the model's prediction"
      ],
      "metadata": {
        "id": "8dvzUEeBfRFf"
      }
    },
    {
      "cell_type": "code",
      "source": [
        "plt.plot(X_new, y_predict, 'r-', linewidth = 2 ) #  plot the red line with ---- \n",
        "plt.plot(X, y, 'b.') # plot the data with blue circles\n",
        "plt.axis([0, 2, 0, 15])\n",
        "plt.show();"
      ],
      "metadata": {
        "colab": {
          "base_uri": "https://localhost:8080/",
          "height": 268
        },
        "id": "uaDIE-v3fUdW",
        "outputId": "065cafa1-a54b-4669-a03e-9c53bb607457"
      },
      "execution_count": null,
      "outputs": [
        {
          "output_type": "display_data",
          "data": {
            "text/plain": [
              "<Figure size 432x288 with 1 Axes>"
            ],
            "image/png": "[encoded data removed]"
          },
          "metadata": {
            "needs_background": "light"
          }
        }
      ]
    },
    {
      "cell_type": "markdown",
      "source": [
        "## what about make same model using sickit learn ♥\n"
      ],
      "metadata": {
        "id": "KZXs4s11gEWg"
      }
    },
    {
      "cell_type": "code",
      "source": [
        "from sklearn.linear_model import LinearRegression"
      ],
      "metadata": {
        "id": "AYEELQXHgMhE"
      },
      "execution_count": null,
      "outputs": []
    },
    {
      "cell_type": "code",
      "source": [
        "lin_reg = LinearRegression()\n",
        "lin_reg.fit(X, y)\n",
        "lin_reg.intercept_, lin_reg.coef_\n",
        "lin_reg.predict(X_new)"
      ],
      "metadata": {
        "colab": {
          "base_uri": "https://localhost:8080/"
        },
        "id": "cN5uLQ2_fu1x",
        "outputId": "bab057c6-f075-44fc-8d3d-520fa99d8d19"
      },
      "execution_count": null,
      "outputs": [
        {
          "output_type": "execute_result",
          "data": {
            "text/plain": [
              "array([[4.00742783],\n",
              "       [9.72091351]])"
            ]
          },
          "metadata": {},
          "execution_count": 10
        }
      ]
    },
    {
      "cell_type": "markdown",
      "source": [
        ""
      ],
      "metadata": {
        "id": "pgW8Zw05fQ92"
      }
    },
    {
      "cell_type": "markdown",
      "source": [
        "### Stochastic Gradient Descent  \n",
        "> **The power of Stochastic Gradienet Descent**  \n",
        "\n",
        "**we use this algorithm to minimize the cost function in a fast way and able to use them in a large data set because this algorithm pick a random instance from the training set and compute the gradiants, which will make it work faster cause of manipulating few data**\n",
        "\n",
        "> **The weakness of Stochastic Gradienet Descent**\n",
        "\n",
        "**the algorithm woudn't stop in the optimal minimum like Batch Gradient Decent , Its alyawes go up an down even if it's reaches the minimum the algorithm well Stop with very good parameters but not the Global optimum**\n"
      ],
      "metadata": {
        "id": "kUTcHwp_xk14"
      }
    },
    {
      "cell_type": "code",
      "source": [
        ""
      ],
      "metadata": {
        "id": "9R-TGcAm7n6X"
      },
      "execution_count": null,
      "outputs": []
    },
    {
      "cell_type": "code",
      "source": [
        "np.random.seed(42)"
      ],
      "metadata": {
        "id": "-ZMaG1B-1fL5"
      },
      "execution_count": null,
      "outputs": []
    },
    {
      "cell_type": "code",
      "source": [
        "\n",
        "n_epoch = 50 \n",
        "t0, t1 = 5, 50 # learning schedual\n",
        "\n",
        "def learning_schedual(t): \n",
        "  return t0/(t + t1 )\n",
        "theta = np.random.randn(2,1) # random array for theta"
      ],
      "metadata": {
        "id": "y5l2R69T0MDs"
      },
      "execution_count": null,
      "outputs": []
    },
    {
      "cell_type": "code",
      "source": [
        "\n",
        "m = len(X_b)\n",
        "for epoch in range(n_epoch):\n",
        "  for i in range(m) :\n",
        "      random_index = np.random.randint(m)\n",
        "      xi = X_b[random_index : random_index+1]\n",
        "      yi = y[random_index : random_index+1]\n",
        "      gradients = 2 * xi.T.dot(xi.dot(theta)-yi)\n",
        "      eta = learning_schedual(epoch * m + i)\n",
        "      theta = theta - eta * gradients"
      ],
      "metadata": {
        "id": "y2krPbMCz5B4"
      },
      "execution_count": null,
      "outputs": []
    },
    {
      "cell_type": "code",
      "source": [
        "theta"
      ],
      "metadata": {
        "colab": {
          "base_uri": "https://localhost:8080/"
        },
        "id": "4QW3NHYgyyZ9",
        "outputId": "5908b694-6490-433f-e5b3-468b3d7848c9"
      },
      "execution_count": null,
      "outputs": [
        {
          "output_type": "execute_result",
          "data": {
            "text/plain": [
              "array([[4.04895841],\n",
              "       [2.89159372]])"
            ]
          },
          "metadata": {},
          "execution_count": 25
        }
      ]
    },
    {
      "cell_type": "markdown",
      "source": [
        "**pretty good solution but as we know not the global optimum   \n",
        "using normal equation    \n",
        "theta = ([4.00742783],\n",
        "       [2.85674284])  \n",
        "       still very closer**"
      ],
      "metadata": {
        "id": "o6kixHme2V5R"
      }
    },
    {
      "cell_type": "markdown",
      "source": [
        "### SGD using sickit learn "
      ],
      "metadata": {
        "id": "4dRVbvbW8a6T"
      }
    },
    {
      "cell_type": "code",
      "source": [
        "# import the model\n",
        "from sklearn.linear_model import SGDRegressor"
      ],
      "metadata": {
        "id": "mY95mHP48ggt"
      },
      "execution_count": null,
      "outputs": []
    },
    {
      "cell_type": "code",
      "source": [
        " # max_iter for num of iterations , penalty > regularization , tol > run till the loss drops by less than 0.001\n",
        "sgd_reg = SGDRegressor(max_iter = 1000 , tol = 1e-3, penalty = None, eta0 = 0.1)\n",
        "\n",
        "sgd_reg.fit(X,y.ravel() ) # using ravel to convert the 2d array to 1d array "
      ],
      "metadata": {
        "colab": {
          "base_uri": "https://localhost:8080/"
        },
        "id": "sIRsAr6S8lc7",
        "outputId": "77ff7977-ebef-4474-8b48-114dedb2fd26"
      },
      "execution_count": null,
      "outputs": [
        {
          "output_type": "execute_result",
          "data": {
            "text/plain": [
              "SGDRegressor(eta0=0.1, penalty=None)"
            ]
          },
          "metadata": {},
          "execution_count": 31
        }
      ]
    },
    {
      "cell_type": "code",
      "source": [
        "sgd_reg.intercept_, sgd_reg.coef_"
      ],
      "metadata": {
        "colab": {
          "base_uri": "https://localhost:8080/"
        },
        "id": "2ybuk7Rq99Yk",
        "outputId": "49f26544-75d8-4fd2-ebf6-e42504179b0a"
      },
      "execution_count": null,
      "outputs": [
        {
          "output_type": "execute_result",
          "data": {
            "text/plain": [
              "(array([4.04134445]), array([2.89762111]))"
            ]
          },
          "metadata": {},
          "execution_count": 32
        }
      ]
    },
    {
      "cell_type": "markdown",
      "source": [
        "**sickit learn make life so easy xD**\n"
      ],
      "metadata": {
        "id": "kt8SBajW-I5n"
      }
    },
    {
      "cell_type": "markdown",
      "source": [
        "### Mini-batch Gradient Descent\n",
        "**little breif about mini-batch we can tell it's a compination of Batche GD and Stochastic GD it's computing in each step a small random set's of instance \"mini-batches\" instead of working on the whole instance or single instance in each step,**"
      ],
      "metadata": {
        "id": "jxFens1N-bi3"
      }
    },
    {
      "cell_type": "markdown",
      "source": [
        "# Polynomial Regression"
      ],
      "metadata": {
        "id": "DQvVtY2rAvzM"
      }
    },
    {
      "cell_type": "code",
      "source": [
        "#Data to figure what is polynomial\n",
        "m = 100 \n",
        "X = 6 * np.random.rand(m, 1) - 3\n",
        "y = 0.5 * X**2 + 2 + np.random.randn(m, 1)"
      ],
      "metadata": {
        "id": "TDCJ42SjAygC"
      },
      "execution_count": null,
      "outputs": []
    },
    {
      "cell_type": "code",
      "source": [
        "plt.plot(X, y, 'b.')\n",
        "plt.xlabel('$X_1$', fontsize = 20)\n",
        "plt.ylabel('$y$', rotation = 0, fontsize = '20')\n",
        "plt.axis([-3, 3, 0, 10])\n",
        "plt.show()"
      ],
      "metadata": {
        "colab": {
          "base_uri": "https://localhost:8080/",
          "height": 299
        },
        "id": "8AIC3e2ZAq0-",
        "outputId": "e42490e5-8557-4082-f4ec-e32fe7b26dab"
      },
      "execution_count": null,
      "outputs": [
        {
          "output_type": "display_data",
          "data": {
            "text/plain": [
              "<Figure size 432x288 with 1 Axes>"
            ],
            "image/png": "[encoded data removed]"
          },
          "metadata": {
            "needs_background": "light"
          }
        }
      ]
    },
    {
      "cell_type": "markdown",
      "source": [
        "**the street line will never fit to this data so we need to use polynomial**  \n",
        "\n",
        "\n",
        "![polynomial-function.png](data:image/png;base64,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)"
      ],
      "metadata": {
        "id": "guFOhPFQCyV-"
      }
    },
    {
      "cell_type": "code",
      "source": [
        "from sklearn.preprocessing import PolynomialFeatures\n",
        "\n",
        "poly_feat = PolynomialFeatures(degree = 2, include_bias = False)\n",
        "X_poly = poly_feat.fit_transform(X)\n",
        "print('X before transform', X[0])\n",
        "print('\\nX after Transform', X_poly[0])"
      ],
      "metadata": {
        "colab": {
          "base_uri": "https://localhost:8080/"
        },
        "id": "2its8YONC-9J",
        "outputId": "0319cd12-04a5-497d-99ce-166bd48b5194"
      },
      "execution_count": null,
      "outputs": [
        {
          "output_type": "stream",
          "name": "stdout",
          "text": [
            "X before transform [0.12959638]\n",
            "\n",
            "X after Transform [0.12959638 0.01679522]\n"
          ]
        }
      ]
    },
    {
      "cell_type": "markdown",
      "source": [
        ""
      ],
      "metadata": {
        "id": "yR4ZpvO_PSUB"
      }
    },
    {
      "cell_type": "code",
      "source": [
        "X_poly[1]"
      ],
      "metadata": {
        "id": "atSZmK_yfMI3",
        "colab": {
          "base_uri": "https://localhost:8080/"
        },
        "outputId": "60759049-6503-4645-f181-57b543f0104f"
      },
      "execution_count": 47,
      "outputs": [
        {
          "output_type": "execute_result",
          "data": {
            "text/plain": [
              "array([1.7669138 , 3.12198438])"
            ]
          },
          "metadata": {},
          "execution_count": 47
        }
      ]
    }
  ]
}