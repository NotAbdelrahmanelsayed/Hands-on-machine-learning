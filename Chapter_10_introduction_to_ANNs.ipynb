{
  "cells": [
    {
      "cell_type": "markdown",
      "metadata": {
        "id": "view-in-github",
        "colab_type": "text"
      },
      "source": [
        "<a href=\"https://colab.research.google.com/github/NotAbdelrahmanelsayed/Hands-on-machine-learning/blob/main/Chapter_10_introduction_to_ANNs.ipynb\" target=\"_parent\"><img src=\"https://colab.research.google.com/assets/colab-badge.svg\" alt=\"Open In Colab\"/></a>"
      ]
    },
    {
      "cell_type": "code",
      "execution_count": null,
      "metadata": {
        "colab": {
          "base_uri": "https://localhost:8080/"
        },
        "id": "laPVWBF-bOCQ",
        "outputId": "359b5a70-dca8-4522-94da-0429b8ef8d41"
      },
      "outputs": [
        {
          "name": "stdout",
          "output_type": "stream",
          "text": [
            "tf\n",
            " 2.8.2 \n",
            "keras\n"
          ]
        }
      ],
      "source": [
        "import tensorflow as tf\n",
        "from tensorflow import keras\n",
        "print('tf\\n',tf.__version__,'\\nkeras')\n",
        "keras.__version__\n",
        "import numpy as np"
      ]
    },
    {
      "cell_type": "code",
      "execution_count": null,
      "metadata": {
        "id": "anOvy1CwFEZy"
      },
      "outputs": [],
      "source": []
    },
    {
      "cell_type": "markdown",
      "metadata": {
        "id": "RRKioL3AW8em"
      },
      "source": [
        "**very excited to learn Deep learning!**"
      ]
    },
    {
      "cell_type": "code",
      "execution_count": null,
      "metadata": {
        "colab": {
          "base_uri": "https://localhost:8080/"
        },
        "id": "hdpKXtusXBcT",
        "outputId": "aa74c586-9aff-49eb-cfa2-bbd94000a70c"
      },
      "outputs": [
        {
          "name": "stdout",
          "output_type": "stream",
          "text": [
            "Downloading data from https://storage.googleapis.com/tensorflow/tf-keras-datasets/train-labels-idx1-ubyte.gz\n",
            "32768/29515 [=================================] - 0s 0us/step\n",
            "40960/29515 [=========================================] - 0s 0us/step\n",
            "Downloading data from https://storage.googleapis.com/tensorflow/tf-keras-datasets/train-images-idx3-ubyte.gz\n",
            "26427392/26421880 [==============================] - 0s 0us/step\n",
            "26435584/26421880 [==============================] - 0s 0us/step\n",
            "Downloading data from https://storage.googleapis.com/tensorflow/tf-keras-datasets/t10k-labels-idx1-ubyte.gz\n",
            "16384/5148 [===============================================================================================] - 0s 0us/step\n",
            "Downloading data from https://storage.googleapis.com/tensorflow/tf-keras-datasets/t10k-images-idx3-ubyte.gz\n",
            "4423680/4422102 [==============================] - 0s 0us/step\n",
            "4431872/4422102 [==============================] - 0s 0us/step\n",
            "shape of Training data X (60000, 28, 28)\n"
          ]
        }
      ],
      "source": [
        "# uploading the data\n",
        "\n",
        "fashion_mnist = keras.datasets.fashion_mnist\n",
        "(X_train_full, y_train_full), (X_test, y_test) = fashion_mnist.load_data()\n",
        "print('shape of Training data X', X_train_full.shape)"
      ]
    },
    {
      "cell_type": "markdown",
      "metadata": {
        "id": "of07cIKSYvKm"
      },
      "source": [
        "**let's get a validation set and scale the data**"
      ]
    },
    {
      "cell_type": "code",
      "execution_count": null,
      "metadata": {
        "id": "rqM4odnMYuNF"
      },
      "outputs": [],
      "source": [
        "X_valid, X_train = X_train_full[:5000] / 255.0, X_train_full[5000:] / 255.0\n",
        "y_valid, y_train = y_train_full[:5000],  y_train_full[5000:]"
      ]
    },
    {
      "cell_type": "markdown",
      "metadata": {
        "id": "Wedat1LkaEi3"
      },
      "source": [
        "**defining the class names to know what we are dealing with**"
      ]
    },
    {
      "cell_type": "code",
      "execution_count": null,
      "metadata": {
        "id": "3ixjMh3xZ6mG"
      },
      "outputs": [],
      "source": [
        "class_names = ['T-shirt/Top', 'Trouser', 'Pullover', 'Dress', 'Coat',\n",
        "               'Sandal', 'Shirt', 'Sneaker', 'Bag', 'Ankle boot']"
      ]
    },
    {
      "cell_type": "code",
      "execution_count": null,
      "metadata": {
        "colab": {
          "base_uri": "https://localhost:8080/",
          "height": 35
        },
        "id": "EncimnP0atq1",
        "outputId": "8d5061d4-eaac-459f-d983-589a0e0d2f66"
      },
      "outputs": [
        {
          "data": {
            "application/vnd.google.colaboratory.intrinsic+json": {
              "type": "string"
            },
            "text/plain": [
              "'Coat'"
            ]
          },
          "execution_count": 5,
          "metadata": {},
          "output_type": "execute_result"
        }
      ],
      "source": [
        "class_names[y_train[0]]"
      ]
    },
    {
      "cell_type": "code",
      "execution_count": null,
      "metadata": {
        "colab": {
          "base_uri": "https://localhost:8080/",
          "height": 248
        },
        "id": "gA3Mi5wqa_pq",
        "outputId": "50385366-63dd-447d-db73-10a6da083707"
      },
      "outputs": [
        {
          "data": {
            "image/png": "[encoded data removed]",
            "text/plain": [
              "<Figure size 432x288 with 1 Axes>"
            ]
          },
          "metadata": {},
          "output_type": "display_data"
        }
      ],
      "source": [
        "import matplotlib.pyplot as plt\n",
        "\n",
        "plt.imshow(X_train[0], cmap = 'binary')\n",
        "plt.axis('off');"
      ]
    },
    {
      "cell_type": "markdown",
      "metadata": {
        "id": "_iJwofYXcPnF"
      },
      "source": [
        "**let's take a look at the data**"
      ]
    },
    {
      "cell_type": "code",
      "execution_count": null,
      "metadata": {
        "colab": {
          "base_uri": "https://localhost:8080/",
          "height": 308
        },
        "id": "9rmcI_tDcUyp",
        "outputId": "38e7f613-49f4-46f4-ac2d-9a22f05273d9"
      },
      "outputs": [
        {
          "data": {
            "image/png": "[encoded data removed]",
            "text/plain": [
              "<Figure size 864x345.6 with 40 Axes>"
            ]
          },
          "metadata": {},
          "output_type": "display_data"
        }
      ],
      "source": [
        "n_rows = 4\n",
        "n_cols = 10\n",
        "plt.figure(figsize=(n_cols * 1.2, n_rows * 1.2))\n",
        "for row in range(n_rows):\n",
        "    for col in range(n_cols):\n",
        "        index = n_cols * row + col\n",
        "        plt.subplot(n_rows, n_cols, index + 1)\n",
        "        plt.imshow(X_train[index], cmap=\"binary\", interpolation=\"nearest\")\n",
        "        plt.axis('off')\n",
        "        plt.title(class_names[y_train[index]], fontsize=12)\n",
        "plt.subplots_adjust(wspace=0.2, hspace=0.5)\n",
        "plt.show()"
      ]
    },
    {
      "cell_type": "markdown",
      "metadata": {
        "id": "r4RQM4gMhhDG"
      },
      "source": [
        "**let's train a model (squential)**"
      ]
    },
    {
      "cell_type": "code",
      "execution_count": null,
      "metadata": {
        "id": "ZeRRjuwKhf12"
      },
      "outputs": [],
      "source": [
        "model = keras.models.Sequential([\n",
        "    keras.layers.Flatten(input_shape = [28,28]), # convert each input to 1D\n",
        "    keras.layers.Dense(300, activation = 'relu'), # 300 : neuorons \n",
        "    keras.layers.Dense(100, activation = 'relu'), # 100 : neuorons \n",
        "    keras.layers.Dense(10, activation = 'softmax') # 300 : neuorons \n",
        "])"
      ]
    },
    {
      "cell_type": "code",
      "execution_count": null,
      "metadata": {
        "colab": {
          "base_uri": "https://localhost:8080/"
        },
        "id": "VjA8tA4sihTZ",
        "outputId": "4772aa52-cbde-4589-bbf3-a30ed15cfc2f"
      },
      "outputs": [
        {
          "name": "stdout",
          "output_type": "stream",
          "text": [
            "Model: \"sequential\"\n",
            "_________________________________________________________________\n",
            " Layer (type)                Output Shape              Param #   \n",
            "=================================================================\n",
            " flatten (Flatten)           (None, 784)               0         \n",
            "                                                                 \n",
            " dense (Dense)               (None, 300)               235500    \n",
            "                                                                 \n",
            " dense_1 (Dense)             (None, 100)               30100     \n",
            "                                                                 \n",
            " dense_2 (Dense)             (None, 10)                1010      \n",
            "                                                                 \n",
            "=================================================================\n",
            "Total params: 266,610\n",
            "Trainable params: 266,610\n",
            "Non-trainable params: 0\n",
            "_________________________________________________________________\n"
          ]
        }
      ],
      "source": [
        "model.summary()"
      ]
    },
    {
      "cell_type": "code",
      "execution_count": null,
      "metadata": {
        "colab": {
          "base_uri": "https://localhost:8080/",
          "height": 466
        },
        "id": "tCAWbCDSipp5",
        "outputId": "a952ed44-c20c-4c18-ea23-2846bab4b59c"
      },
      "outputs": [
        {
          "data": {
            "image/png": "[encoded data removed]",
            "text/plain": [
              "<IPython.core.display.Image object>"
            ]
          },
          "execution_count": 10,
          "metadata": {},
          "output_type": "execute_result"
        }
      ],
      "source": [
        "keras.utils.plot_model(model)"
      ]
    },
    {
      "cell_type": "code",
      "execution_count": null,
      "metadata": {
        "colab": {
          "base_uri": "https://localhost:8080/"
        },
        "id": "7CjJ9g45myq7",
        "outputId": "a2966a37-f4fb-4747-cac3-c53e4b0cf90e"
      },
      "outputs": [
        {
          "name": "stdout",
          "output_type": "stream",
          "text": [
            "(784, 300) \n",
            "\n",
            " (300,)\n"
          ]
        }
      ],
      "source": [
        "hidden1 = model.layers[1]\n",
        "weights, biases = hidden1.get_weights()\n",
        "\n",
        "print(weights.shape,'\\n\\n', biases.shape)\n"
      ]
    },
    {
      "cell_type": "markdown",
      "metadata": {
        "id": "2LB_XYIIn6K5"
      },
      "source": [
        "**specify the loss-functio**"
      ]
    },
    {
      "cell_type": "code",
      "execution_count": null,
      "metadata": {
        "id": "TYAWDvuKn7Re"
      },
      "outputs": [],
      "source": [
        "model.compile(\n",
        "    loss = 'sparse_categorical_crossentropy',\n",
        "    optimizer = 'sgd',\n",
        "     )"
      ]
    },
    {
      "cell_type": "code",
      "execution_count": null,
      "metadata": {
        "colab": {
          "base_uri": "https://localhost:8080/"
        },
        "id": "RlMPIPqjn4fd",
        "outputId": "73dd4e37-3ab7-4c3c-87ad-37f8b4e5d4f8"
      },
      "outputs": [
        {
          "name": "stdout",
          "output_type": "stream",
          "text": [
            "Epoch 1/30\n",
            "1719/1719 [==============================] - 12s 7ms/step - loss: 0.7294 - accuracy: 0.7602 - val_loss: 0.5193 - val_accuracy: 0.8250\n",
            "Epoch 2/30\n",
            "1719/1719 [==============================] - 12s 7ms/step - loss: 0.4892 - accuracy: 0.8304 - val_loss: 0.4477 - val_accuracy: 0.8506\n",
            "Epoch 3/30\n",
            "1719/1719 [==============================] - 9s 5ms/step - loss: 0.4428 - accuracy: 0.8440 - val_loss: 0.4187 - val_accuracy: 0.8594\n",
            "Epoch 4/30\n",
            "1719/1719 [==============================] - 6s 4ms/step - loss: 0.4160 - accuracy: 0.8536 - val_loss: 0.4115 - val_accuracy: 0.8574\n",
            "Epoch 5/30\n",
            "1719/1719 [==============================] - 6s 4ms/step - loss: 0.3937 - accuracy: 0.8618 - val_loss: 0.4009 - val_accuracy: 0.8606\n",
            "Epoch 6/30\n",
            "1719/1719 [==============================] - 6s 4ms/step - loss: 0.3781 - accuracy: 0.8648 - val_loss: 0.3747 - val_accuracy: 0.8714\n",
            "Epoch 7/30\n",
            "1719/1719 [==============================] - 6s 4ms/step - loss: 0.3641 - accuracy: 0.8707 - val_loss: 0.3641 - val_accuracy: 0.8700\n",
            "Epoch 8/30\n",
            "1719/1719 [==============================] - 6s 4ms/step - loss: 0.3523 - accuracy: 0.8738 - val_loss: 0.3775 - val_accuracy: 0.8702\n",
            "Epoch 9/30\n",
            "1719/1719 [==============================] - 6s 4ms/step - loss: 0.3430 - accuracy: 0.8787 - val_loss: 0.3487 - val_accuracy: 0.8762\n",
            "Epoch 10/30\n",
            "1719/1719 [==============================] - 6s 4ms/step - loss: 0.3329 - accuracy: 0.8813 - val_loss: 0.3526 - val_accuracy: 0.8722\n",
            "Epoch 11/30\n",
            "1719/1719 [==============================] - 6s 4ms/step - loss: 0.3250 - accuracy: 0.8832 - val_loss: 0.3472 - val_accuracy: 0.8766\n",
            "Epoch 12/30\n",
            "1719/1719 [==============================] - 6s 4ms/step - loss: 0.3165 - accuracy: 0.8855 - val_loss: 0.3494 - val_accuracy: 0.8738\n",
            "Epoch 13/30\n",
            "1719/1719 [==============================] - 6s 4ms/step - loss: 0.3094 - accuracy: 0.8900 - val_loss: 0.3381 - val_accuracy: 0.8768\n",
            "Epoch 14/30\n",
            "1719/1719 [==============================] - 7s 4ms/step - loss: 0.3032 - accuracy: 0.8906 - val_loss: 0.3371 - val_accuracy: 0.8820\n",
            "Epoch 15/30\n",
            "1719/1719 [==============================] - 6s 4ms/step - loss: 0.2962 - accuracy: 0.8929 - val_loss: 0.3271 - val_accuracy: 0.8810\n",
            "Epoch 16/30\n",
            "1719/1719 [==============================] - 6s 4ms/step - loss: 0.2895 - accuracy: 0.8949 - val_loss: 0.3497 - val_accuracy: 0.8758\n",
            "Epoch 17/30\n",
            "1719/1719 [==============================] - 6s 4ms/step - loss: 0.2842 - accuracy: 0.8973 - val_loss: 0.3161 - val_accuracy: 0.8852\n",
            "Epoch 18/30\n",
            "1719/1719 [==============================] - 7s 4ms/step - loss: 0.2791 - accuracy: 0.9001 - val_loss: 0.3091 - val_accuracy: 0.8886\n",
            "Epoch 19/30\n",
            "1719/1719 [==============================] - 7s 4ms/step - loss: 0.2730 - accuracy: 0.9015 - val_loss: 0.3192 - val_accuracy: 0.8864\n",
            "Epoch 20/30\n",
            "1719/1719 [==============================] - 6s 4ms/step - loss: 0.2675 - accuracy: 0.9043 - val_loss: 0.3049 - val_accuracy: 0.8898\n",
            "Epoch 21/30\n",
            "1719/1719 [==============================] - 6s 4ms/step - loss: 0.2633 - accuracy: 0.9043 - val_loss: 0.3144 - val_accuracy: 0.8860\n",
            "Epoch 22/30\n",
            "1719/1719 [==============================] - 6s 3ms/step - loss: 0.2583 - accuracy: 0.9064 - val_loss: 0.3104 - val_accuracy: 0.8846\n",
            "Epoch 23/30\n",
            "1719/1719 [==============================] - 6s 4ms/step - loss: 0.2538 - accuracy: 0.9080 - val_loss: 0.3199 - val_accuracy: 0.8866\n",
            "Epoch 24/30\n",
            "1719/1719 [==============================] - 6s 4ms/step - loss: 0.2491 - accuracy: 0.9101 - val_loss: 0.3116 - val_accuracy: 0.8862\n",
            "Epoch 25/30\n",
            "1719/1719 [==============================] - 6s 4ms/step - loss: 0.2446 - accuracy: 0.9119 - val_loss: 0.3016 - val_accuracy: 0.8902\n",
            "Epoch 26/30\n",
            "1719/1719 [==============================] - 6s 4ms/step - loss: 0.2406 - accuracy: 0.9137 - val_loss: 0.3272 - val_accuracy: 0.8856\n",
            "Epoch 27/30\n",
            "1719/1719 [==============================] - 6s 3ms/step - loss: 0.2361 - accuracy: 0.9158 - val_loss: 0.3311 - val_accuracy: 0.8844\n",
            "Epoch 28/30\n",
            "1719/1719 [==============================] - 6s 3ms/step - loss: 0.2320 - accuracy: 0.9167 - val_loss: 0.3176 - val_accuracy: 0.8858\n",
            "Epoch 29/30\n",
            "1719/1719 [==============================] - 6s 3ms/step - loss: 0.2284 - accuracy: 0.9184 - val_loss: 0.3057 - val_accuracy: 0.8886\n",
            "Epoch 30/30\n",
            "1719/1719 [==============================] - 6s 3ms/step - loss: 0.2241 - accuracy: 0.9199 - val_loss: 0.2947 - val_accuracy: 0.8936\n"
          ]
        }
      ],
      "source": [
        "history = model.fit(X_train, y_train, epochs = 30,\n",
        "                    validation_data = (X_valid , y_valid))"
      ]
    },
    {
      "cell_type": "code",
      "execution_count": null,
      "metadata": {
        "colab": {
          "base_uri": "https://localhost:8080/",
          "height": 324
        },
        "id": "UuL2zc_i0Xl5",
        "outputId": "df19af31-a880-4f64-8d6a-3e9b939c2715"
      },
      "outputs": [
        {
          "data": {
            "image/png": "[encoded data removed]",
            "text/plain": [
              "<Figure size 576x360 with 1 Axes>"
            ]
          },
          "metadata": {},
          "output_type": "display_data"
        }
      ],
      "source": [
        "import pandas as pd\n",
        "pd.DataFrame(history.history).plot(figsize = (8, 5))\n",
        "plt.grid(True)\n",
        "plt.gca().set_ylim(0,1)\n",
        "plt.show()"
      ]
    },
    {
      "cell_type": "markdown",
      "metadata": {
        "id": "dyWo1fcEFLJd"
      },
      "source": [
        "Evaluate ?  maybe like predict and accuracy score ! "
      ]
    },
    {
      "cell_type": "code",
      "execution_count": null,
      "metadata": {
        "colab": {
          "base_uri": "https://localhost:8080/"
        },
        "id": "X6zcMUVIFOWH",
        "outputId": "361079a4-884a-41dd-988e-4898c35d7483"
      },
      "outputs": [
        {
          "name": "stdout",
          "output_type": "stream",
          "text": [
            "313/313 [==============================] - 1s 3ms/step - loss: 60.0380 - accuracy: 0.8540\n"
          ]
        },
        {
          "data": {
            "text/plain": [
              "[60.037994384765625, 0.8539999723434448]"
            ]
          },
          "execution_count": 15,
          "metadata": {},
          "output_type": "execute_result"
        }
      ],
      "source": [
        "model.evaluate(X_test, y_test)"
      ]
    },
    {
      "cell_type": "markdown",
      "metadata": {
        "id": "uhm3wkTRFsf_"
      },
      "source": [
        "let's predict some instances "
      ]
    },
    {
      "cell_type": "code",
      "execution_count": null,
      "metadata": {
        "colab": {
          "base_uri": "https://localhost:8080/"
        },
        "id": "YSv7haSKFukF",
        "outputId": "925d53fd-38f9-414c-ec63-1d4ae151b1da"
      },
      "outputs": [
        {
          "data": {
            "text/plain": [
              "array([[0., 0., 0., 0., 0., 0., 0., 0., 0., 1.],\n",
              "       [0., 0., 1., 0., 0., 0., 0., 0., 0., 0.],\n",
              "       [0., 1., 0., 0., 0., 0., 0., 0., 0., 0.]], dtype=float32)"
            ]
          },
          "execution_count": 16,
          "metadata": {},
          "output_type": "execute_result"
        }
      ],
      "source": [
        "X_new = X_test[:3]\n",
        "y_proba = model.predict(X_new)\n",
        "y_proba"
      ]
    },
    {
      "cell_type": "markdown",
      "metadata": {
        "id": "_ol2QydVF2jA"
      },
      "source": [
        "predict_class !  !!  ! .. \n",
        "get's the highest probality"
      ]
    },
    {
      "cell_type": "code",
      "execution_count": null,
      "metadata": {
        "colab": {
          "base_uri": "https://localhost:8080/"
        },
        "id": "sc08UNCUF0cU",
        "outputId": "095ca65e-50ae-4d65-9fec-eae30f9056c3"
      },
      "outputs": [
        {
          "data": {
            "text/plain": [
              "array([9, 2, 1])"
            ]
          },
          "execution_count": 17,
          "metadata": {},
          "output_type": "execute_result"
        }
      ],
      "source": [
        "classes_X = np.argmax(y_proba, axis = 1)\n",
        "classes_X"
      ]
    },
    {
      "cell_type": "code",
      "execution_count": null,
      "metadata": {
        "colab": {
          "base_uri": "https://localhost:8080/"
        },
        "id": "8X2epzxgOowh",
        "outputId": "186e6d8f-4200-465a-8538-3320b4d0fbd0"
      },
      "outputs": [
        {
          "name": "stdout",
          "output_type": "stream",
          "text": [
            "array classes names ['Ankle boot' 'Pullover' 'Trouser']\n"
          ]
        }
      ],
      "source": [
        "print('array classes names', np.array(class_names)[classes_X])"
      ]
    },
    {
      "cell_type": "code",
      "execution_count": null,
      "metadata": {
        "colab": {
          "base_uri": "https://localhost:8080/"
        },
        "id": "PshihHWSPI78",
        "outputId": "6331069c-44f0-4ced-ed13-ea172654edd0"
      },
      "outputs": [
        {
          "data": {
            "text/plain": [
              "array([9, 2, 1], dtype=uint8)"
            ]
          },
          "execution_count": 19,
          "metadata": {},
          "output_type": "execute_result"
        }
      ],
      "source": [
        "y_new = y_test[:3]\n",
        "y_new"
      ]
    },
    {
      "cell_type": "markdown",
      "metadata": {
        "id": "MapXBZdXPdX9"
      },
      "source": [
        "# What about regression usin MLP ^_^"
      ]
    },
    {
      "cell_type": "code",
      "execution_count": null,
      "metadata": {
        "id": "xL9Jg_MLPOYe"
      },
      "outputs": [],
      "source": [
        "from sklearn.datasets import fetch_california_housing\n",
        "from sklearn.model_selection import train_test_split\n",
        "from sklearn.preprocessing import StandardScaler\n",
        "\n"
      ]
    },
    {
      "cell_type": "code",
      "execution_count": null,
      "metadata": {
        "id": "G5dNjOEYP2SI"
      },
      "outputs": [],
      "source": [
        "housing = fetch_california_housing()\n",
        "\n",
        "X_train_full, X_test, y_train_full, y_test = train_test_split(\n",
        "    housing.data, housing.target)\n",
        "\n",
        "X_train, X_valid, y_train, y_valid = train_test_split(\n",
        "    X_train_full, y_train_full\n",
        ")"
      ]
    },
    {
      "cell_type": "code",
      "execution_count": null,
      "metadata": {
        "colab": {
          "base_uri": "https://localhost:8080/"
        },
        "id": "GHJDswJfQiaD",
        "outputId": "a935c2de-fed9-4154-e7bd-265b0c7b71f7"
      },
      "outputs": [
        {
          "data": {
            "text/plain": [
              "array([   1.8355    ,   29.        ,    4.48736462,    1.12635379,\n",
              "        836.        ,    3.01805054,   36.68      , -119.76      ])"
            ]
          },
          "execution_count": 22,
          "metadata": {},
          "output_type": "execute_result"
        }
      ],
      "source": [
        "X_train[1]"
      ]
    },
    {
      "cell_type": "code",
      "execution_count": null,
      "metadata": {
        "id": "x_wZUky1QKOm"
      },
      "outputs": [],
      "source": [
        "scaler = StandardScaler()\n",
        "X_train = scaler.fit_transform(X_train)\n",
        "X_valid = scaler.transform(X_valid)\n",
        "X_test = scaler.transform(X_test)"
      ]
    },
    {
      "cell_type": "code",
      "execution_count": null,
      "metadata": {
        "colab": {
          "base_uri": "https://localhost:8080/"
        },
        "id": "vXXcYn-1Qw40",
        "outputId": "a3239f8a-9357-4480-8aff-3ca5021fd373"
      },
      "outputs": [
        {
          "data": {
            "text/plain": [
              "array([-1.07602229,  0.03214246, -0.39898872,  0.08328079, -0.50752491,\n",
              "       -0.00372632,  0.50558256, -0.10632892])"
            ]
          },
          "execution_count": 24,
          "metadata": {},
          "output_type": "execute_result"
        }
      ],
      "source": [
        "X_train[1]"
      ]
    },
    {
      "cell_type": "code",
      "execution_count": null,
      "metadata": {
        "id": "eKjopfj0Qy_o"
      },
      "outputs": [],
      "source": [
        "model = keras.models.Sequential([\n",
        "    keras.layers.Dense(30, activation = 'relu', input_shape = X_train.shape[1:]),\n",
        "    keras.layers.Dense(1)\n",
        "])"
      ]
    },
    {
      "cell_type": "code",
      "execution_count": null,
      "metadata": {
        "id": "FEYVo7psRZSk"
      },
      "outputs": [],
      "source": [
        "model.compile(loss = 'mean_squared_error', optimizer = 'sgd')"
      ]
    },
    {
      "cell_type": "code",
      "execution_count": null,
      "metadata": {
        "colab": {
          "base_uri": "https://localhost:8080/"
        },
        "id": "16tQCsa3RxcG",
        "outputId": "058a1b5d-1da0-4104-e65f-0609a3a753cf"
      },
      "outputs": [
        {
          "name": "stdout",
          "output_type": "stream",
          "text": [
            "Epoch 1/20\n",
            "363/363 [==============================] - 1s 2ms/step - loss: 1.2835 - val_loss: 2.1174\n",
            "Epoch 2/20\n",
            "363/363 [==============================] - 1s 2ms/step - loss: nan - val_loss: nan\n",
            "Epoch 3/20\n",
            "363/363 [==============================] - 1s 2ms/step - loss: nan - val_loss: nan\n",
            "Epoch 4/20\n",
            "363/363 [==============================] - 1s 2ms/step - loss: nan - val_loss: nan\n",
            "Epoch 5/20\n",
            "363/363 [==============================] - 1s 2ms/step - loss: nan - val_loss: nan\n",
            "Epoch 6/20\n",
            "363/363 [==============================] - 1s 2ms/step - loss: nan - val_loss: nan\n",
            "Epoch 7/20\n",
            "363/363 [==============================] - 1s 2ms/step - loss: nan - val_loss: nan\n",
            "Epoch 8/20\n",
            "363/363 [==============================] - 1s 2ms/step - loss: nan - val_loss: nan\n",
            "Epoch 9/20\n",
            "363/363 [==============================] - 1s 2ms/step - loss: nan - val_loss: nan\n",
            "Epoch 10/20\n",
            "363/363 [==============================] - 1s 2ms/step - loss: nan - val_loss: nan\n",
            "Epoch 11/20\n",
            "363/363 [==============================] - 1s 2ms/step - loss: nan - val_loss: nan\n",
            "Epoch 12/20\n",
            "363/363 [==============================] - 1s 2ms/step - loss: nan - val_loss: nan\n",
            "Epoch 13/20\n",
            "363/363 [==============================] - 1s 2ms/step - loss: nan - val_loss: nan\n",
            "Epoch 14/20\n",
            "363/363 [==============================] - 1s 2ms/step - loss: nan - val_loss: nan\n",
            "Epoch 15/20\n",
            "363/363 [==============================] - 1s 2ms/step - loss: nan - val_loss: nan\n",
            "Epoch 16/20\n",
            "363/363 [==============================] - 1s 2ms/step - loss: nan - val_loss: nan\n",
            "Epoch 17/20\n",
            "363/363 [==============================] - 1s 2ms/step - loss: nan - val_loss: nan\n",
            "Epoch 18/20\n",
            "363/363 [==============================] - 1s 2ms/step - loss: nan - val_loss: nan\n",
            "Epoch 19/20\n",
            "363/363 [==============================] - 1s 2ms/step - loss: nan - val_loss: nan\n",
            "Epoch 20/20\n",
            "363/363 [==============================] - 1s 2ms/step - loss: nan - val_loss: nan\n"
          ]
        }
      ],
      "source": [
        "history = model.fit(X_train, y_train, epochs = 20,\n",
        "                    validation_data = (X_valid, y_valid))"
      ]
    },
    {
      "cell_type": "code",
      "execution_count": null,
      "metadata": {
        "colab": {
          "base_uri": "https://localhost:8080/"
        },
        "id": "CUHXAE9PSFAf",
        "outputId": "e726e239-fa21-4dc3-d179-d7b418726adf"
      },
      "outputs": [
        {
          "name": "stdout",
          "output_type": "stream",
          "text": [
            "162/162 [==============================] - 0s 1ms/step - loss: nan\n"
          ]
        }
      ],
      "source": [
        "mse_test = model.evaluate(X_test, y_test)\n",
        "X_new = X_test[:3] # pretend it's a new instance xD\n",
        "y_pred = model.predict(X_new)"
      ]
    },
    {
      "cell_type": "code",
      "execution_count": null,
      "metadata": {
        "colab": {
          "base_uri": "https://localhost:8080/"
        },
        "id": "KM86Y3C-SXKs",
        "outputId": "83d7b575-e422-4c69-eafd-bae429af64ab"
      },
      "outputs": [
        {
          "name": "stdout",
          "output_type": "stream",
          "text": [
            "[[nan]\n",
            " [nan]\n",
            " [nan]] \n",
            " real val\n",
            " [1.636 1.188 1.375]\n"
          ]
        }
      ],
      "source": [
        "print(y_pred, '\\n real val\\n', y_test[:3])"
      ]
    },
    {
      "cell_type": "markdown",
      "metadata": {
        "id": "HMHmitc_Sxn7"
      },
      "source": [
        "# Bulding Complex Models Using Functional API"
      ]
    },
    {
      "cell_type": "code",
      "execution_count": null,
      "metadata": {
        "id": "66YwtCd4S3Hf"
      },
      "outputs": [],
      "source": [
        "input_ = keras.layers.Input(shape = X_train.shape[1:]) # takes the shape of the training data\n",
        "\n",
        "hidden1 = keras.layers.Dense(30, activation = 'relu')(input_) #dense layer with 30 neurons\n",
        "\n",
        "hidden2 = keras.layers.Dense(30, activation = 'relu')(hidden1) # we path it the output from the first hidden layer\n",
        "\n",
        "concat = keras.layers.concatenate([input_, hidden2]) # concate the input and output from the last hidden layer\n",
        "\n",
        "output = keras.layers.Dense(1)(concat) # ouput layer with single neuron without activation functions \n",
        "\n",
        "model = keras.Model(inputs = [input_], outputs = [output])\n"
      ]
    },
    {
      "cell_type": "markdown",
      "metadata": {
        "id": "ndtJYfcmifRW"
      },
      "source": [
        "## compile and train the model "
      ]
    },
    {
      "cell_type": "code",
      "execution_count": null,
      "metadata": {
        "colab": {
          "base_uri": "https://localhost:8080/"
        },
        "id": "X4i1OmRdii-J",
        "outputId": "876d4262-6f8e-43d4-8899-aeeaf4955284"
      },
      "outputs": [
        {
          "name": "stdout",
          "output_type": "stream",
          "text": [
            "Epoch 1/25\n",
            "363/363 [==============================] - 1s 2ms/step - loss: 1.0450 - val_loss: 1.8963\n",
            "Epoch 2/25\n",
            "363/363 [==============================] - 1s 2ms/step - loss: 16.0426 - val_loss: 48.1783\n",
            "Epoch 3/25\n",
            "363/363 [==============================] - 1s 2ms/step - loss: nan - val_loss: nan\n",
            "Epoch 4/25\n",
            "363/363 [==============================] - 1s 2ms/step - loss: nan - val_loss: nan\n",
            "Epoch 5/25\n",
            "363/363 [==============================] - 1s 2ms/step - loss: nan - val_loss: nan\n",
            "Epoch 6/25\n",
            "363/363 [==============================] - 1s 2ms/step - loss: nan - val_loss: nan\n",
            "Epoch 7/25\n",
            "363/363 [==============================] - 1s 2ms/step - loss: nan - val_loss: nan\n",
            "Epoch 8/25\n",
            "363/363 [==============================] - 1s 2ms/step - loss: nan - val_loss: nan\n",
            "Epoch 9/25\n",
            "363/363 [==============================] - 1s 2ms/step - loss: nan - val_loss: nan\n",
            "Epoch 10/25\n",
            "363/363 [==============================] - 1s 2ms/step - loss: nan - val_loss: nan\n",
            "Epoch 11/25\n",
            "363/363 [==============================] - 1s 2ms/step - loss: nan - val_loss: nan\n",
            "Epoch 12/25\n",
            "363/363 [==============================] - 1s 2ms/step - loss: nan - val_loss: nan\n",
            "Epoch 13/25\n",
            "363/363 [==============================] - 1s 2ms/step - loss: nan - val_loss: nan\n",
            "Epoch 14/25\n",
            "363/363 [==============================] - 1s 2ms/step - loss: nan - val_loss: nan\n",
            "Epoch 15/25\n",
            "363/363 [==============================] - 1s 2ms/step - loss: nan - val_loss: nan\n",
            "Epoch 16/25\n",
            "363/363 [==============================] - 1s 2ms/step - loss: nan - val_loss: nan\n",
            "Epoch 17/25\n",
            "363/363 [==============================] - 1s 2ms/step - loss: nan - val_loss: nan\n",
            "Epoch 18/25\n",
            "363/363 [==============================] - 1s 2ms/step - loss: nan - val_loss: nan\n",
            "Epoch 19/25\n",
            "363/363 [==============================] - 1s 2ms/step - loss: nan - val_loss: nan\n",
            "Epoch 20/25\n",
            "363/363 [==============================] - 1s 2ms/step - loss: nan - val_loss: nan\n",
            "Epoch 21/25\n",
            "363/363 [==============================] - 1s 2ms/step - loss: nan - val_loss: nan\n",
            "Epoch 22/25\n",
            "363/363 [==============================] - 1s 2ms/step - loss: nan - val_loss: nan\n",
            "Epoch 23/25\n",
            "363/363 [==============================] - 1s 2ms/step - loss: nan - val_loss: nan\n",
            "Epoch 24/25\n",
            "363/363 [==============================] - 1s 2ms/step - loss: nan - val_loss: nan\n",
            "Epoch 25/25\n",
            "363/363 [==============================] - 1s 2ms/step - loss: nan - val_loss: nan\n"
          ]
        }
      ],
      "source": [
        "model.compile(loss = 'mean_squared_error', optimizer = 'sgd')\n",
        "history = model.fit( X_train, y_train, epochs = 25, validation_data = [X_valid, y_valid])\n"
      ]
    },
    {
      "cell_type": "code",
      "execution_count": null,
      "metadata": {
        "colab": {
          "base_uri": "https://localhost:8080/"
        },
        "id": "6Xw0hPfNjYAh",
        "outputId": "2333ad56-f9b2-4259-8e8c-8fed715fe208"
      },
      "outputs": [
        {
          "name": "stdout",
          "output_type": "stream",
          "text": [
            "162/162 [==============================] - 0s 1ms/step - loss: nan\n"
          ]
        }
      ],
      "source": [
        "eval = model.evaluate(X_test, y_test)"
      ]
    },
    {
      "cell_type": "code",
      "execution_count": null,
      "metadata": {
        "colab": {
          "base_uri": "https://localhost:8080/",
          "height": 466
        },
        "id": "k8gpDvnsj4ia",
        "outputId": "373802ef-9148-4c50-dbb4-ada6389b2899"
      },
      "outputs": [
        {
          "data": {
            "image/png": "[encoded data removed]",
            "text/plain": [
              "<IPython.core.display.Image object>"
            ]
          },
          "execution_count": 33,
          "metadata": {},
          "output_type": "execute_result"
        }
      ],
      "source": [
        "keras.utils.plot_model(model)"
      ]
    },
    {
      "cell_type": "markdown",
      "metadata": {
        "id": "FhbglTbFjcmJ"
      },
      "source": [
        "# big comment i don't know if loss = 0.5 is god or not ..."
      ]
    },
    {
      "cell_type": "markdown",
      "metadata": {
        "id": "ruWwvGx0kCFY"
      },
      "source": [
        "## diffrent approach of training sending to subset of features (overlapping features) using multiple inputs"
      ]
    },
    {
      "cell_type": "code",
      "execution_count": null,
      "metadata": {
        "colab": {
          "base_uri": "https://localhost:8080/",
          "height": 466
        },
        "id": "M5ChgeM-jbcX",
        "outputId": "9f057a45-3572-4c43-c9eb-2b632a175374"
      },
      "outputs": [
        {
          "data": {
            "image/png": "[encoded data removed]",
            "text/plain": [
              "<IPython.core.display.Image object>"
            ]
          },
          "execution_count": 34,
          "metadata": {},
          "output_type": "execute_result"
        }
      ],
      "source": [
        "input_A = keras.layers.Input(shape = [5], name = 'wide_input')\n",
        "input_B = keras.layers.Input(shape = [6], name = 'deep_input')\n",
        "\n",
        "hidden1 = keras.layers.Dense(30, activation = 'relu') (input_B)\n",
        "hidden2 = keras.layers.Dense(30, activation = 'relu')(hidden1)\n",
        "\n",
        "concat = keras.layers.concatenate([input_A, hidden2])\n",
        "output = keras.layers.Dense(1, name = 'output')(concat)\n",
        "model = keras.Model(inputs =[input_A, input_B], outputs = [output])\n",
        "keras.utils.plot_model(model)"
      ]
    },
    {
      "cell_type": "markdown",
      "metadata": {
        "id": "RL_Gf4eUlpB5"
      },
      "source": [
        "The above model while calling fit method needs to inputs i.e(X_train_A, X_train_B)"
      ]
    },
    {
      "cell_type": "code",
      "execution_count": null,
      "metadata": {
        "colab": {
          "base_uri": "https://localhost:8080/"
        },
        "id": "ZU5EqM2WlNrm",
        "outputId": "675afc38-e0ef-42b1-d6fb-e19f0068dfae"
      },
      "outputs": [
        {
          "name": "stderr",
          "output_type": "stream",
          "text": [
            "/usr/local/lib/python3.7/dist-packages/keras/optimizer_v2/gradient_descent.py:102: UserWarning: The `lr` argument is deprecated, use `learning_rate` instead.\n",
            "  super(SGD, self).__init__(name, **kwargs)\n"
          ]
        }
      ],
      "source": [
        "model.compile(loss = 'mse', optimizer = keras.optimizers.SGD(lr=1e-3))"
      ]
    },
    {
      "cell_type": "code",
      "execution_count": null,
      "metadata": {
        "id": "XrpnUCKlmFUs"
      },
      "outputs": [],
      "source": [
        "X_train_A, X_train_B = X_train[:, :5], X_train[:, 2:]\n",
        "X_valid_A, X_valid_B = X_valid[:, :5], X_valid[:, 2:]\n",
        "X_test_A, X_test_B = X_test[:, :5], X_test[:, 2:]\n",
        "X_new_A, X_new_B = X_test_A[:3], X_test_B[:3]\n"
      ]
    },
    {
      "cell_type": "code",
      "execution_count": null,
      "metadata": {
        "colab": {
          "base_uri": "https://localhost:8080/"
        },
        "id": "2kmhNp-Cmh3h",
        "outputId": "6b23ac1d-9476-484a-afbe-27f327a016ef"
      },
      "outputs": [
        {
          "name": "stdout",
          "output_type": "stream",
          "text": [
            "Epoch 1/50\n",
            "363/363 [==============================] - 1s 2ms/step - loss: 1.3890 - val_loss: 0.8686\n",
            "Epoch 2/50\n",
            "363/363 [==============================] - 1s 2ms/step - loss: 0.7782 - val_loss: 0.7620\n",
            "Epoch 3/50\n",
            "363/363 [==============================] - 1s 2ms/step - loss: 0.6940 - val_loss: 0.7044\n",
            "Epoch 4/50\n",
            "363/363 [==============================] - 1s 2ms/step - loss: 0.6425 - val_loss: 0.6583\n",
            "Epoch 5/50\n",
            "363/363 [==============================] - 1s 2ms/step - loss: 0.6059 - val_loss: 0.6267\n",
            "Epoch 6/50\n",
            "363/363 [==============================] - 1s 2ms/step - loss: 0.5783 - val_loss: 0.6038\n",
            "Epoch 7/50\n",
            "363/363 [==============================] - 1s 2ms/step - loss: 0.5569 - val_loss: 0.5829\n",
            "Epoch 8/50\n",
            "363/363 [==============================] - 1s 2ms/step - loss: 0.5404 - val_loss: 0.5678\n",
            "Epoch 9/50\n",
            "363/363 [==============================] - 1s 2ms/step - loss: 0.5279 - val_loss: 0.5550\n",
            "Epoch 10/50\n",
            "363/363 [==============================] - 1s 2ms/step - loss: 0.5173 - val_loss: 0.5450\n",
            "Epoch 11/50\n",
            "363/363 [==============================] - 1s 2ms/step - loss: 0.5089 - val_loss: 0.5360\n",
            "Epoch 12/50\n",
            "363/363 [==============================] - 1s 2ms/step - loss: 0.5023 - val_loss: 0.5295\n",
            "Epoch 13/50\n",
            "363/363 [==============================] - 1s 2ms/step - loss: 0.4965 - val_loss: 0.5242\n",
            "Epoch 14/50\n",
            "363/363 [==============================] - 1s 2ms/step - loss: 0.4914 - val_loss: 0.5193\n",
            "Epoch 15/50\n",
            "363/363 [==============================] - 1s 2ms/step - loss: 0.4873 - val_loss: 0.5165\n",
            "Epoch 16/50\n",
            "363/363 [==============================] - 1s 2ms/step - loss: 0.4841 - val_loss: 0.5121\n",
            "Epoch 17/50\n",
            "363/363 [==============================] - 1s 2ms/step - loss: 0.4809 - val_loss: 0.5089\n",
            "Epoch 18/50\n",
            "363/363 [==============================] - 1s 2ms/step - loss: 0.4784 - val_loss: 0.5059\n",
            "Epoch 19/50\n",
            "363/363 [==============================] - 1s 2ms/step - loss: 0.4757 - val_loss: 0.5034\n",
            "Epoch 20/50\n",
            "363/363 [==============================] - 1s 2ms/step - loss: 0.4739 - val_loss: 0.5019\n",
            "Epoch 21/50\n",
            "363/363 [==============================] - 1s 2ms/step - loss: 0.4716 - val_loss: 0.4996\n",
            "Epoch 22/50\n",
            "363/363 [==============================] - 1s 2ms/step - loss: 0.4691 - val_loss: 0.5011\n",
            "Epoch 23/50\n",
            "363/363 [==============================] - 1s 2ms/step - loss: 0.4673 - val_loss: 0.4963\n",
            "Epoch 24/50\n",
            "363/363 [==============================] - 1s 2ms/step - loss: 0.4656 - val_loss: 0.4944\n",
            "Epoch 25/50\n",
            "363/363 [==============================] - 1s 2ms/step - loss: 0.4637 - val_loss: 0.4943\n",
            "Epoch 26/50\n",
            "363/363 [==============================] - 1s 2ms/step - loss: 0.4625 - val_loss: 0.4919\n",
            "Epoch 27/50\n",
            "363/363 [==============================] - 1s 2ms/step - loss: 0.4607 - val_loss: 0.4899\n",
            "Epoch 28/50\n",
            "363/363 [==============================] - 1s 2ms/step - loss: 0.4588 - val_loss: 0.4885\n",
            "Epoch 29/50\n",
            "363/363 [==============================] - 1s 2ms/step - loss: 0.4577 - val_loss: 0.4871\n",
            "Epoch 30/50\n",
            "363/363 [==============================] - 1s 2ms/step - loss: 0.4559 - val_loss: 0.4857\n",
            "Epoch 31/50\n",
            "363/363 [==============================] - 1s 2ms/step - loss: 0.4547 - val_loss: 0.4839\n",
            "Epoch 32/50\n",
            "363/363 [==============================] - 1s 2ms/step - loss: 0.4532 - val_loss: 0.4848\n",
            "Epoch 33/50\n",
            "363/363 [==============================] - 1s 2ms/step - loss: 0.4522 - val_loss: 0.4822\n",
            "Epoch 34/50\n",
            "363/363 [==============================] - 1s 2ms/step - loss: 0.4508 - val_loss: 0.4804\n",
            "Epoch 35/50\n",
            "363/363 [==============================] - 1s 2ms/step - loss: 0.4493 - val_loss: 0.4801\n",
            "Epoch 36/50\n",
            "363/363 [==============================] - 1s 2ms/step - loss: 0.4482 - val_loss: 0.4780\n",
            "Epoch 37/50\n",
            "363/363 [==============================] - 1s 2ms/step - loss: 0.4466 - val_loss: 0.4771\n",
            "Epoch 38/50\n",
            "363/363 [==============================] - 1s 2ms/step - loss: 0.4452 - val_loss: 0.4771\n",
            "Epoch 39/50\n",
            "363/363 [==============================] - 1s 2ms/step - loss: 0.4441 - val_loss: 0.4748\n",
            "Epoch 40/50\n",
            "363/363 [==============================] - 1s 2ms/step - loss: 0.4429 - val_loss: 0.4737\n",
            "Epoch 41/50\n",
            "363/363 [==============================] - 1s 2ms/step - loss: 0.4415 - val_loss: 0.4728\n",
            "Epoch 42/50\n",
            "363/363 [==============================] - 1s 2ms/step - loss: 0.4405 - val_loss: 0.4720\n",
            "Epoch 43/50\n",
            "363/363 [==============================] - 1s 2ms/step - loss: 0.4392 - val_loss: 0.4707\n",
            "Epoch 44/50\n",
            "363/363 [==============================] - 1s 2ms/step - loss: 0.4382 - val_loss: 0.4702\n",
            "Epoch 45/50\n",
            "363/363 [==============================] - 1s 2ms/step - loss: 0.4371 - val_loss: 0.4686\n",
            "Epoch 46/50\n",
            "363/363 [==============================] - 1s 2ms/step - loss: 0.4357 - val_loss: 0.4681\n",
            "Epoch 47/50\n",
            "363/363 [==============================] - 1s 2ms/step - loss: 0.4342 - val_loss: 0.4670\n",
            "Epoch 48/50\n",
            "363/363 [==============================] - 1s 2ms/step - loss: 0.4336 - val_loss: 0.4658\n",
            "Epoch 49/50\n",
            "363/363 [==============================] - 1s 2ms/step - loss: 0.4323 - val_loss: 0.4648\n",
            "Epoch 50/50\n",
            "363/363 [==============================] - 1s 2ms/step - loss: 0.4308 - val_loss: 0.4640\n",
            "162/162 [==============================] - 0s 2ms/step - loss: 0.4408\n"
          ]
        }
      ],
      "source": [
        "history = model.fit((X_train_A, X_train_B), y_train, epochs=50,\n",
        "                    validation_data=((X_valid_A, X_valid_B), y_valid))\n",
        "mse_test = model.evaluate((X_test_A, X_test_B), y_test)"
      ]
    },
    {
      "cell_type": "markdown",
      "metadata": {
        "id": "zhGgVESou9CT"
      },
      "source": [
        "OOP Time 🇩\n",
        "we will build the same model in a class "
      ]
    },
    {
      "cell_type": "code",
      "execution_count": null,
      "metadata": {
        "id": "sLSxutQgqtSQ"
      },
      "outputs": [],
      "source": [
        "class WideAndDeepModel(keras.Model):\n",
        "  def __init__(self, units = 30, activation = 'relu', **kwargs):\n",
        "    super().__init__(**kwargs) # handles standard args\n",
        "    self.hidden1 = keras.layers.Dense(units, activation = activation)\n",
        "    self.hidden2 = keras.layers.Dense(units, activation = activation)\n",
        "\n",
        "    self.main_output = keras.layers.Dense(1)\n",
        "    self.aux_output  = keras.layers.Dense(1)\n",
        "\n",
        "  def call(self, inputs):\n",
        "    input_A, input_B = inputs\n",
        "    hidden1 = self.hidden1(input_B)\n",
        "    hidden2 = self.hidden2(hidden1)\n",
        "    concat = keras.layers.concatenate([input_A, hidden2])\n",
        "    main_output - self.main_output(concat)\n",
        "    aux_output = self.aux_output(hidden2)\n",
        "    return main_output, aux_output\n"
      ]
    },
    {
      "cell_type": "markdown",
      "metadata": {
        "id": "X6F4cyA8xmnF"
      },
      "source": [
        "# how to save and restore a model ! "
      ]
    },
    {
      "cell_type": "code",
      "execution_count": null,
      "metadata": {
        "id": "K5jdckkSqcST"
      },
      "outputs": [],
      "source": [
        "# model.save('my_first_model.h5')\n",
        "\n",
        "# model = keras.models.load_model('my_first_model.h5')"
      ]
    },
    {
      "cell_type": "code",
      "execution_count": null,
      "metadata": {
        "id": "vqZyQFsUyt0Q"
      },
      "outputs": [],
      "source": [
        "model = keras.models.Sequential([\n",
        "    keras.layers.Dense(30, activation=\"relu\", input_shape=[8]),\n",
        "    keras.layers.Dense(30, activation=\"relu\"),\n",
        "    keras.layers.Dense(1)\n",
        "])    "
      ]
    },
    {
      "cell_type": "code",
      "execution_count": null,
      "metadata": {
        "colab": {
          "base_uri": "https://localhost:8080/"
        },
        "id": "MlBxzJPiyuax",
        "outputId": "9db88d95-6013-4138-9ee6-dcfdca687471"
      },
      "outputs": [
        {
          "name": "stdout",
          "output_type": "stream",
          "text": [
            "Epoch 1/10\n",
            "363/363 [==============================] - 1s 2ms/step - loss: 2.3209 - val_loss: 0.8747\n",
            "Epoch 2/10\n",
            "363/363 [==============================] - 1s 2ms/step - loss: 0.8873 - val_loss: 0.6930\n",
            "Epoch 3/10\n",
            "363/363 [==============================] - 1s 2ms/step - loss: 0.6652 - val_loss: 0.6612\n",
            "Epoch 4/10\n",
            "363/363 [==============================] - 1s 2ms/step - loss: 0.6181 - val_loss: 0.6384\n",
            "Epoch 5/10\n",
            "363/363 [==============================] - 1s 2ms/step - loss: 0.5953 - val_loss: 0.6187\n",
            "Epoch 6/10\n",
            "363/363 [==============================] - 1s 2ms/step - loss: 0.5757 - val_loss: 0.6004\n",
            "Epoch 7/10\n",
            "363/363 [==============================] - 1s 2ms/step - loss: 0.5580 - val_loss: 0.5846\n",
            "Epoch 8/10\n",
            "363/363 [==============================] - 1s 2ms/step - loss: 0.5423 - val_loss: 0.5692\n",
            "Epoch 9/10\n",
            "363/363 [==============================] - 1s 2ms/step - loss: 0.5287 - val_loss: 0.5573\n",
            "Epoch 10/10\n",
            "363/363 [==============================] - 1s 2ms/step - loss: 0.5156 - val_loss: 0.5444\n",
            "162/162 [==============================] - 0s 1ms/step - loss: 0.5235\n"
          ]
        }
      ],
      "source": [
        "model.compile(loss=\"mse\", optimizer=keras.optimizers.SGD(learning_rate=1e-3))\n",
        "history = model.fit(X_train, y_train, epochs=10, validation_data=(X_valid, y_valid))\n",
        "mse_test = model.evaluate(X_test, y_test)"
      ]
    },
    {
      "cell_type": "code",
      "execution_count": null,
      "metadata": {
        "id": "ipaO20XuywJz"
      },
      "outputs": [],
      "source": [
        "model.save(\"my_first_model.h5\")\n",
        "model = keras.models.load_model(\"my_first_model.h5\")"
      ]
    },
    {
      "cell_type": "code",
      "execution_count": null,
      "metadata": {
        "colab": {
          "base_uri": "https://localhost:8080/"
        },
        "id": "OM3fvnHqy2u7",
        "outputId": "7d6af9c0-5463-4ef3-de61-c41a2d673656"
      },
      "outputs": [
        {
          "data": {
            "text/plain": [
              "array([[1.8111818],\n",
              "       [1.3108308],\n",
              "       [1.1391311]], dtype=float32)"
            ]
          },
          "execution_count": 43,
          "metadata": {},
          "output_type": "execute_result"
        }
      ],
      "source": [
        "model.predict(X_new)"
      ]
    },
    {
      "cell_type": "code",
      "execution_count": null,
      "metadata": {
        "id": "hclBCnrBy7fQ"
      },
      "outputs": [],
      "source": []
    },
    {
      "cell_type": "markdown",
      "metadata": {
        "id": "lkXeCUafxspm"
      },
      "source": [
        "# using Callbacks\n"
      ]
    },
    {
      "cell_type": "code",
      "execution_count": null,
      "metadata": {
        "id": "dKoaJ9Krxu5d"
      },
      "outputs": [],
      "source": [
        "model = keras.models.Sequential([\n",
        "    keras.layers.Dense(30, activation = 'relu', input_shape = [8]), # #hidden layer1\n",
        "    keras.layers.Dense(30, activation = 'relu'), # hidden layer2\n",
        "    keras.layers.Dense(1) # output layer\n",
        "])\n",
        "model.compile(loss = 'mse', optimizer = 'sgd')"
      ]
    },
    {
      "cell_type": "code",
      "execution_count": null,
      "metadata": {
        "colab": {
          "base_uri": "https://localhost:8080/"
        },
        "id": "jy5SrV34z0KY",
        "outputId": "d1fa5314-8d61-4a65-b584-ccaf63603a8a"
      },
      "outputs": [
        {
          "name": "stdout",
          "output_type": "stream",
          "text": [
            "Epoch 1/10\n",
            "363/363 [==============================] - 1s 1ms/step - loss: 0.7986\n",
            "Epoch 2/10\n",
            "363/363 [==============================] - 1s 2ms/step - loss: 0.8357\n",
            "Epoch 3/10\n",
            "363/363 [==============================] - 1s 1ms/step - loss: 0.4555\n",
            "Epoch 4/10\n",
            "363/363 [==============================] - 1s 1ms/step - loss: 0.4149\n",
            "Epoch 5/10\n",
            "363/363 [==============================] - 1s 1ms/step - loss: 0.3987\n",
            "Epoch 6/10\n",
            "363/363 [==============================] - 1s 1ms/step - loss: 0.3875\n",
            "Epoch 7/10\n",
            "363/363 [==============================] - 1s 1ms/step - loss: 0.3811\n",
            "Epoch 8/10\n",
            "363/363 [==============================] - 1s 1ms/step - loss: 0.3754\n",
            "Epoch 9/10\n",
            "363/363 [==============================] - 1s 1ms/step - loss: 0.3690\n",
            "Epoch 10/10\n",
            "363/363 [==============================] - 1s 1ms/step - loss: 0.3641\n"
          ]
        }
      ],
      "source": [
        "checkpoint_cb = keras.callbacks.ModelCheckpoint('my_first_model.h5')\n",
        "\n",
        "history = model.fit(X_train, y_train, epochs = 10, callbacks = [checkpoint_cb]) # roll back to the best modet"
      ]
    },
    {
      "cell_type": "markdown",
      "metadata": {
        "id": "_mtiwL44eNha"
      },
      "source": [
        "## implement early stopping"
      ]
    },
    {
      "cell_type": "code",
      "execution_count": null,
      "metadata": {
        "colab": {
          "base_uri": "https://localhost:8080/"
        },
        "id": "FLEZEHG302uz",
        "outputId": "92caa4cb-f460-423e-fd17-09a91dc924e4"
      },
      "outputs": [
        {
          "name": "stdout",
          "output_type": "stream",
          "text": [
            "Epoch 1/100\n",
            "363/363 [==============================] - 1s 2ms/step - loss: 0.3614 - val_loss: 0.3845\n",
            "Epoch 2/100\n",
            "363/363 [==============================] - 1s 2ms/step - loss: 0.3554 - val_loss: 0.3938\n",
            "Epoch 3/100\n",
            "363/363 [==============================] - 1s 2ms/step - loss: 0.3518 - val_loss: 0.3786\n",
            "Epoch 4/100\n",
            "363/363 [==============================] - 1s 2ms/step - loss: 0.3491 - val_loss: 0.3739\n",
            "Epoch 5/100\n",
            "363/363 [==============================] - 1s 2ms/step - loss: 0.3455 - val_loss: 0.3726\n",
            "Epoch 6/100\n",
            "363/363 [==============================] - 1s 2ms/step - loss: 0.3450 - val_loss: 0.3866\n",
            "Epoch 7/100\n",
            "363/363 [==============================] - 1s 2ms/step - loss: 0.3407 - val_loss: 0.3652\n",
            "Epoch 8/100\n",
            "363/363 [==============================] - 1s 2ms/step - loss: 0.3376 - val_loss: 0.3644\n",
            "Epoch 9/100\n",
            "363/363 [==============================] - 1s 2ms/step - loss: 0.3356 - val_loss: 0.3577\n",
            "Epoch 10/100\n",
            "363/363 [==============================] - 1s 2ms/step - loss: 0.3347 - val_loss: 0.3634\n",
            "Epoch 11/100\n",
            "363/363 [==============================] - 1s 2ms/step - loss: 0.3309 - val_loss: 0.3601\n",
            "Epoch 12/100\n",
            "363/363 [==============================] - 1s 2ms/step - loss: 0.3283 - val_loss: 0.3578\n",
            "Epoch 13/100\n",
            "363/363 [==============================] - 1s 2ms/step - loss: 0.3238 - val_loss: 0.3547\n",
            "Epoch 14/100\n",
            "363/363 [==============================] - 1s 2ms/step - loss: 0.3203 - val_loss: 0.3863\n",
            "Epoch 15/100\n",
            "363/363 [==============================] - 1s 2ms/step - loss: 0.3214 - val_loss: 0.3448\n",
            "Epoch 16/100\n",
            "363/363 [==============================] - 1s 2ms/step - loss: 0.3181 - val_loss: 0.3499\n",
            "Epoch 17/100\n",
            "363/363 [==============================] - 1s 2ms/step - loss: 0.3164 - val_loss: 0.3535\n",
            "Epoch 18/100\n",
            "363/363 [==============================] - 1s 2ms/step - loss: 0.3128 - val_loss: 0.3491\n",
            "Epoch 19/100\n",
            "363/363 [==============================] - 1s 2ms/step - loss: 0.3111 - val_loss: 0.3485\n",
            "Epoch 20/100\n",
            "363/363 [==============================] - 1s 2ms/step - loss: 0.3100 - val_loss: 0.3489\n",
            "Epoch 21/100\n",
            "363/363 [==============================] - 1s 2ms/step - loss: 0.3072 - val_loss: 0.3344\n",
            "Epoch 22/100\n",
            "363/363 [==============================] - 1s 2ms/step - loss: 0.3065 - val_loss: 0.3333\n",
            "Epoch 23/100\n",
            "363/363 [==============================] - 1s 2ms/step - loss: 0.3070 - val_loss: 0.3348\n",
            "Epoch 24/100\n",
            "363/363 [==============================] - 1s 2ms/step - loss: 0.3044 - val_loss: 0.3342\n",
            "Epoch 25/100\n",
            "363/363 [==============================] - 1s 2ms/step - loss: 0.3024 - val_loss: 0.3352\n",
            "Epoch 26/100\n",
            "363/363 [==============================] - 1s 2ms/step - loss: 0.3013 - val_loss: 0.3350\n",
            "Epoch 27/100\n",
            "363/363 [==============================] - 1s 2ms/step - loss: 0.3009 - val_loss: 0.3308\n",
            "Epoch 28/100\n",
            "363/363 [==============================] - 1s 2ms/step - loss: 0.3010 - val_loss: 0.3269\n",
            "Epoch 29/100\n",
            "363/363 [==============================] - 1s 2ms/step - loss: 0.2987 - val_loss: 0.3240\n",
            "Epoch 30/100\n",
            "363/363 [==============================] - 1s 2ms/step - loss: 0.2987 - val_loss: 0.3348\n",
            "Epoch 31/100\n",
            "363/363 [==============================] - 1s 2ms/step - loss: 0.2971 - val_loss: 0.3347\n",
            "Epoch 32/100\n",
            "363/363 [==============================] - 1s 2ms/step - loss: 0.2967 - val_loss: 0.3326\n",
            "Epoch 33/100\n",
            "363/363 [==============================] - 1s 2ms/step - loss: 0.2959 - val_loss: 0.3359\n",
            "Epoch 34/100\n",
            "363/363 [==============================] - 1s 2ms/step - loss: 0.2941 - val_loss: 0.3230\n",
            "Epoch 35/100\n",
            "363/363 [==============================] - 1s 2ms/step - loss: 0.2942 - val_loss: 0.3272\n",
            "Epoch 36/100\n",
            "363/363 [==============================] - 1s 2ms/step - loss: 0.2932 - val_loss: 0.3336\n",
            "Epoch 37/100\n",
            "363/363 [==============================] - 1s 2ms/step - loss: 0.2915 - val_loss: 0.3208\n",
            "Epoch 38/100\n",
            "363/363 [==============================] - 1s 2ms/step - loss: 0.2925 - val_loss: 0.3203\n",
            "Epoch 39/100\n",
            "363/363 [==============================] - 1s 2ms/step - loss: 0.2913 - val_loss: 0.3242\n",
            "Epoch 40/100\n",
            "363/363 [==============================] - 1s 2ms/step - loss: 0.2878 - val_loss: 0.3199\n",
            "Epoch 41/100\n",
            "363/363 [==============================] - 1s 2ms/step - loss: 0.2879 - val_loss: 0.3204\n",
            "Epoch 42/100\n",
            "363/363 [==============================] - 1s 2ms/step - loss: 0.2885 - val_loss: 0.3199\n",
            "Epoch 43/100\n",
            "108/363 [=======>......................] - ETA: 0s - loss: 0.2974"
          ]
        }
      ],
      "source": [
        "early_stopping = keras.callbacks.EarlyStopping(patience = 10, restore_best_weights = True)\n",
        "\n",
        "history = model.fit(X_train, y_train, epochs = 100, \n",
        "                    validation_data = (X_valid, y_valid),\n",
        "                    callbacks = [checkpoint_cb, early_stopping])"
      ]
    },
    {
      "cell_type": "markdown",
      "metadata": {
        "id": "PVchv5wkfa5z"
      },
      "source": [
        "**As We can see training stops at 57 because there is no benefit from training more thats great**\n",
        "can i use earlystopping without cb ? let's try it "
      ]
    },
    {
      "cell_type": "code",
      "execution_count": null,
      "metadata": {
        "colab": {
          "background_save": true
        },
        "id": "t0ff-tF6f26o",
        "outputId": "d10b1571-933f-4e6d-804d-05fa47179361"
      },
      "outputs": [
        {
          "name": "stdout",
          "output_type": "stream",
          "text": [
            "Epoch 1/1000\n",
            "363/363 [==============================] - 2s 4ms/step - loss: 0.2781 - val_loss: 0.3191\n",
            "Epoch 2/1000\n",
            "363/363 [==============================] - 1s 4ms/step - loss: 0.2780 - val_loss: 0.3231\n",
            "Epoch 3/1000\n",
            "363/363 [==============================] - 2s 5ms/step - loss: 0.2753 - val_loss: 0.3094\n",
            "Epoch 4/1000\n",
            "363/363 [==============================] - 2s 5ms/step - loss: 0.2755 - val_loss: 0.3156\n",
            "Epoch 5/1000\n",
            "363/363 [==============================] - 1s 3ms/step - loss: 0.2750 - val_loss: 0.3231\n",
            "Epoch 6/1000\n",
            "363/363 [==============================] - 1s 2ms/step - loss: 0.2760 - val_loss: 0.3164\n",
            "Epoch 7/1000\n",
            "363/363 [==============================] - 1s 2ms/step - loss: 0.2751 - val_loss: 0.3295\n",
            "Epoch 8/1000\n",
            "363/363 [==============================] - 1s 2ms/step - loss: 0.2752 - val_loss: 0.3141\n",
            "Epoch 9/1000\n",
            "363/363 [==============================] - 1s 2ms/step - loss: 0.2744 - val_loss: 0.3169\n",
            "Epoch 10/1000\n",
            "363/363 [==============================] - 1s 2ms/step - loss: 0.2715 - val_loss: 0.3130\n",
            "Epoch 11/1000\n",
            "363/363 [==============================] - 1s 2ms/step - loss: 0.2736 - val_loss: 0.3184\n",
            "Epoch 12/1000\n",
            "363/363 [==============================] - 1s 2ms/step - loss: 0.2720 - val_loss: 0.3089\n",
            "Epoch 13/1000\n",
            "363/363 [==============================] - 1s 2ms/step - loss: 0.2709 - val_loss: 0.3099\n",
            "Epoch 14/1000\n",
            "363/363 [==============================] - 1s 2ms/step - loss: 0.2718 - val_loss: 0.3187\n",
            "Epoch 15/1000\n",
            "363/363 [==============================] - 1s 2ms/step - loss: 0.2702 - val_loss: 0.3140\n",
            "Epoch 16/1000\n",
            "363/363 [==============================] - 1s 2ms/step - loss: 0.2702 - val_loss: 0.3180\n",
            "Epoch 17/1000\n",
            "363/363 [==============================] - 1s 2ms/step - loss: 0.2704 - val_loss: 0.3175\n",
            "Epoch 18/1000\n",
            "363/363 [==============================] - 1s 2ms/step - loss: 0.2702 - val_loss: 0.3221\n",
            "Epoch 19/1000\n",
            "363/363 [==============================] - 1s 2ms/step - loss: 0.2697 - val_loss: 0.3104\n",
            "Epoch 20/1000\n",
            "363/363 [==============================] - 1s 2ms/step - loss: 0.2698 - val_loss: 0.3211\n",
            "Epoch 21/1000\n",
            "363/363 [==============================] - 1s 2ms/step - loss: 0.2706 - val_loss: 0.3306\n",
            "Epoch 22/1000\n",
            "363/363 [==============================] - 1s 2ms/step - loss: 0.2712 - val_loss: 0.3124\n"
          ]
        }
      ],
      "source": [
        "early_stopping = keras.callbacks.EarlyStopping(patience = 10, restore_best_weights = True)\n",
        "\n",
        "history = model.fit(X_train, y_train, epochs = 1000, \n",
        "                    validation_data = (X_valid, y_valid),\n",
        "                    callbacks = [early_stopping])"
      ]
    },
    {
      "cell_type": "markdown",
      "metadata": {
        "id": "lwC9fxs-gJnh"
      },
      "source": [
        "great approach training using callbacks and early stopping ! "
      ]
    },
    {
      "cell_type": "markdown",
      "metadata": {
        "id": "MqcXJNlWgxCQ"
      },
      "source": [
        "## TensorBoard for Visualization !  ! "
      ]
    },
    {
      "cell_type": "code",
      "execution_count": null,
      "metadata": {
        "colab": {
          "background_save": true
        },
        "id": "hpTr4YH4flj_"
      },
      "outputs": [],
      "source": [
        "import os\n",
        "root_logdir = os.path.join(os.curdir, 'my_logs')\n"
      ]
    },
    {
      "cell_type": "code",
      "execution_count": null,
      "metadata": {
        "colab": {
          "background_save": true
        },
        "id": "NhzTogQkewBd",
        "outputId": "4db39460-e28e-4579-c8a6-74193b2c160a"
      },
      "outputs": [
        {
          "data": {
            "application/vnd.google.colaboratory.intrinsic+json": {
              "type": "string"
            },
            "text/plain": [
              "'./my_logs/run_2022_09_18---20:27___26'"
            ]
          },
          "execution_count": 49,
          "metadata": {},
          "output_type": "execute_result"
        }
      ],
      "source": [
        "def get_run_logdir():\n",
        "  import time\n",
        "  run_id = time.strftime('run_%Y_%m_%d---%H:%M___%S')\n",
        "  return os.path.join(root_logdir, run_id)\n",
        "run_logdir = get_run_logdir()\n",
        "run_logdir"
      ]
    },
    {
      "cell_type": "code",
      "execution_count": null,
      "metadata": {
        "id": "T5PO8Aw9jt2x"
      },
      "outputs": [],
      "source": [
        "tensorboard_cb = keras.callbacks.TensorBoard(run_logdir)\n",
        "history = model.fit(X_train, y_train, epochs = 30, \n",
        "                    validation_data = (X_valid, y_valid),\n",
        "                    callbacks = [tensorboard_cb])\n"
      ]
    },
    {
      "cell_type": "code",
      "execution_count": null,
      "metadata": {
        "id": "GikyANPckUjJ"
      },
      "outputs": [],
      "source": [
        "%load_ext tensorboard\n",
        "%tensorboard --logdir=./my_logs --port=6006"
      ]
    }
  ],
  "metadata": {
    "colab": {
      "collapsed_sections": [],
      "provenance": [],
      "authorship_tag": "ABX9TyMpiT/gTaGYBHPSNNRfpwvA",
      "include_colab_link": true
    },
    "kernelspec": {
      "display_name": "Python 3",
      "name": "python3"
    },
    "language_info": {
      "name": "python"
    }
  },
  "nbformat": 4,
  "nbformat_minor": 0
}